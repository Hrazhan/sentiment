{
 "cells": [
  {
   "cell_type": "code",
   "execution_count": 1,
   "id": "009d12c3",
   "metadata": {},
   "outputs": [],
   "source": [
    "import pandas as pd\n",
    "from collections import defaultdict\n",
    "\n",
    "from tqdm import tqdm\n",
    "from sklearn.model_selection import train_test_split\n",
    "from sklearn.feature_extraction.text import TfidfVectorizer\n",
    "\n",
    "from sklearn.linear_model import LogisticRegression\n",
    "from sklearn.ensemble import RandomForestClassifier\n",
    "from sklearn.tree import DecisionTreeClassifier\n",
    "from sklearn.svm import LinearSVC\n",
    "from sklearn.pipeline import Pipeline\n",
    "from sklearn.model_selection import ParameterGrid\n",
    "\n",
    "from utils import *\n",
    "\n",
    "import warnings\n",
    "warnings.filterwarnings(\"ignore\")\n",
    "\n",
    "%matplotlib inline"
   ]
  },
  {
   "cell_type": "markdown",
   "id": "c469da91",
   "metadata": {},
   "source": [
    "## Cleaning  & preparing data"
   ]
  },
  {
   "cell_type": "code",
   "execution_count": 2,
   "id": "7434f6d7",
   "metadata": {
    "scrolled": true
   },
   "outputs": [
    {
     "data": {
      "text/html": [
       "<div>\n",
       "<style scoped>\n",
       "    .dataframe tbody tr th:only-of-type {\n",
       "        vertical-align: middle;\n",
       "    }\n",
       "\n",
       "    .dataframe tbody tr th {\n",
       "        vertical-align: top;\n",
       "    }\n",
       "\n",
       "    .dataframe thead th {\n",
       "        text-align: right;\n",
       "    }\n",
       "</style>\n",
       "<table border=\"1\" class=\"dataframe\">\n",
       "  <thead>\n",
       "    <tr style=\"text-align: right;\">\n",
       "      <th></th>\n",
       "      <th>tweet</th>\n",
       "      <th>sentiment</th>\n",
       "    </tr>\n",
       "  </thead>\n",
       "  <tbody>\n",
       "    <tr>\n",
       "      <th>2</th>\n",
       "      <td>ناشرینترین کەس ئەو کەسەیە کە هەڵەکانت تۆمار دە...</td>\n",
       "      <td>negative</td>\n",
       "    </tr>\n",
       "    <tr>\n",
       "      <th>3</th>\n",
       "      <td>ئیمڕۆ هاوکارەکەم وتی تەک مناڵەکانا چووگین بۆ د...</td>\n",
       "      <td>negative</td>\n",
       "    </tr>\n",
       "    <tr>\n",
       "      <th>4</th>\n",
       "      <td>بە خۆر بڵێ کیس و شت نەکا وە با، مانگیش شەوانە ...</td>\n",
       "      <td>neutral</td>\n",
       "    </tr>\n",
       "    <tr>\n",
       "      <th>5</th>\n",
       "      <td>ئیشێ من ئەوەیە هەموو ڕۆژێ لە خەوێ‌ هەستم برێم:...</td>\n",
       "      <td>negative</td>\n",
       "    </tr>\n",
       "    <tr>\n",
       "      <th>6</th>\n",
       "      <td>ئەرێ ئێوەش ئاوان؟ لە ماڵەوە بێزارن و و کە دەچی...</td>\n",
       "      <td>negative</td>\n",
       "    </tr>\n",
       "  </tbody>\n",
       "</table>\n",
       "</div>"
      ],
      "text/plain": [
       "                                               tweet sentiment\n",
       "2  ناشرینترین کەس ئەو کەسەیە کە هەڵەکانت تۆمار دە...  negative\n",
       "3  ئیمڕۆ هاوکارەکەم وتی تەک مناڵەکانا چووگین بۆ د...  negative\n",
       "4  بە خۆر بڵێ کیس و شت نەکا وە با، مانگیش شەوانە ...   neutral\n",
       "5  ئیشێ من ئەوەیە هەموو ڕۆژێ لە خەوێ‌ هەستم برێم:...  negative\n",
       "6  ئەرێ ئێوەش ئاوان؟ لە ماڵەوە بێزارن و و کە دەچی...  negative"
      ]
     },
     "execution_count": 2,
     "metadata": {},
     "output_type": "execute_result"
    }
   ],
   "source": [
    "gold_df = pd.read_csv(\"./data/data.tsv\", sep='\\t')\n",
    "gold_df = gold_df[['tweet', 'sentiment']]\n",
    "# drop records where sentiment is none or mixed\n",
    "gold_df = gold_df.drop(gold_df[gold_df.sentiment == 'mixed'].index)\n",
    "gold_df = gold_df.drop(gold_df[gold_df.sentiment == 'none'].index)\n",
    "gold_df.head()"
   ]
  },
  {
   "cell_type": "code",
   "execution_count": 3,
   "id": "2d8a57d6",
   "metadata": {},
   "outputs": [
    {
     "data": {
      "text/plain": [
       "negative    639\n",
       "positive    292\n",
       "neutral     254\n",
       "Name: sentiment, dtype: int64"
      ]
     },
     "execution_count": 3,
     "metadata": {},
     "output_type": "execute_result"
    }
   ],
   "source": [
    "gold_df.sentiment.value_counts()"
   ]
  },
  {
   "cell_type": "code",
   "execution_count": 4,
   "id": "1e7fd90f",
   "metadata": {},
   "outputs": [],
   "source": [
    "silver_df = pd.read_csv('./data/silver_data.csv')"
   ]
  },
  {
   "cell_type": "code",
   "execution_count": 8,
   "id": "098b5796",
   "metadata": {},
   "outputs": [],
   "source": [
    "# Sample 400 records from silver_df when sentiment is neutral\n",
    "neu_aug = silver_df[silver_df.sentiment == 'neutral'].sample(700 - 254)\n",
    "pos_aug = silver_df[silver_df.sentiment == 'positive'].sample(700 - 292)\n",
    "neg_aug = silver_df[silver_df.sentiment == 'negative'].sample(700 - 639)\n",
    "df = pd.concat([neu_aug, pos_aug, neg_aug, gold_df], ignore_index=True)"
   ]
  },
  {
   "cell_type": "code",
   "execution_count": 9,
   "id": "696ccec4",
   "metadata": {},
   "outputs": [],
   "source": [
    "# df = gold_df"
   ]
  },
  {
   "cell_type": "code",
   "execution_count": 10,
   "id": "be38b856",
   "metadata": {},
   "outputs": [
    {
     "data": {
      "text/plain": [
       "neutral     700\n",
       "positive    700\n",
       "negative    700\n",
       "Name: sentiment, dtype: int64"
      ]
     },
     "execution_count": 10,
     "metadata": {},
     "output_type": "execute_result"
    }
   ],
   "source": [
    "df.sentiment.value_counts()"
   ]
  },
  {
   "cell_type": "markdown",
   "id": "633f8bb0",
   "metadata": {},
   "source": [
    "### Grouping emojis"
   ]
  },
  {
   "cell_type": "code",
   "execution_count": 11,
   "id": "fb036741",
   "metadata": {},
   "outputs": [],
   "source": [
    "emojis = {'ئەرێنی': ' 😊 😃 😄 😍 😘 😎 😇 🤗 🤩 🤔 🥰 🥳 🙂 😉 😌 😁 😻 😺 🌞 😂 ❤ ♥ 😍 😊 👌 💕 👏 😁 ☺ ♡ 🙏 ✌ 😄 💃 💖 😃 🎉 😜 🌸 💜 💙 ✨ 💗 ★ 😎 💋 😋 🙌 🙈 💪 😁 🔥 💯',\n",
    "         'نەرێنی': '😠 😡 😤 😩 😭 😰 😱 😨 😫 😖 😞 😒 😔 😕 😫 😩 😢 😠 😣 😤 😦 😧 😨 😩 😫 😬 😭 😯 😰 😱 😲 😳 😴 😵 😶 😷 🙁 🤔 🤕 🤒 🤢 🤮 🤧 😇 🤠 🤡 🤥 🤫 🤭 🧐 🤓',\n",
    "         'ئاسایی': '😐 😶 😑 😬 😯 😕 😒 '}\n",
    "\n",
    "emoji_to_sentiment = {}\n",
    "for k,v in emojis.items():\n",
    "    for i in set(v.split()):\n",
    "        emoji_to_sentiment[i] = f\" {k} \" # so the word does not attched directly to its surrounding words"
   ]
  },
  {
   "cell_type": "code",
   "execution_count": 12,
   "id": "dc55d710",
   "metadata": {},
   "outputs": [],
   "source": [
    "# replace emojis with their corresponding word\n",
    "# df['tweet'] = df['tweet'].replace(emoji_to_sentiment, regex=True)"
   ]
  },
  {
   "cell_type": "code",
   "execution_count": 13,
   "id": "d014dbc0",
   "metadata": {},
   "outputs": [],
   "source": [
    "df['cleaned_text'] = df['tweet'].apply(lambda x:clean_text(x, lemma=True, emoji=False))"
   ]
  },
  {
   "cell_type": "code",
   "execution_count": 14,
   "id": "648c038e",
   "metadata": {},
   "outputs": [
    {
     "data": {
      "text/html": [
       "<div>\n",
       "<style scoped>\n",
       "    .dataframe tbody tr th:only-of-type {\n",
       "        vertical-align: middle;\n",
       "    }\n",
       "\n",
       "    .dataframe tbody tr th {\n",
       "        vertical-align: top;\n",
       "    }\n",
       "\n",
       "    .dataframe thead th {\n",
       "        text-align: right;\n",
       "    }\n",
       "</style>\n",
       "<table border=\"1\" class=\"dataframe\">\n",
       "  <thead>\n",
       "    <tr style=\"text-align: right;\">\n",
       "      <th></th>\n",
       "      <th>tweet</th>\n",
       "      <th>sentiment</th>\n",
       "      <th>cleaned_text</th>\n",
       "    </tr>\n",
       "  </thead>\n",
       "  <tbody>\n",
       "    <tr>\n",
       "      <th>0</th>\n",
       "      <td>دوای شەش ساڵ خوشکم هاتەوە کوردستان😭😍</td>\n",
       "      <td>0</td>\n",
       "      <td>دوان شەش ساڵ خوشک هاتەوە کوردستان😭😍</td>\n",
       "    </tr>\n",
       "    <tr>\n",
       "      <th>1</th>\n",
       "      <td>بڕەکەی کە 134 ملیار و 455 ملیۆن دینارە</td>\n",
       "      <td>0</td>\n",
       "      <td>بڕ کە 134 ملیار و 455 ملیۆن دینار</td>\n",
       "    </tr>\n",
       "    <tr>\n",
       "      <th>2</th>\n",
       "      <td>دا بە منیش بڵێن لە دینوو بەم قونم وە خرو کەوت</td>\n",
       "      <td>0</td>\n",
       "      <td>دا بوون نیشتن وتن لە دین بردن قونم وە خرو کەوتن</td>\n",
       "    </tr>\n",
       "    <tr>\n",
       "      <th>3</th>\n",
       "      <td>سوید پەنابەرێکی باکووری کوردستان ڕادەستی تورکی...</td>\n",
       "      <td>0</td>\n",
       "      <td>سوید پەنابەر باکوور کوردستان ڕادەستی تورکیا دە...</td>\n",
       "    </tr>\n",
       "    <tr>\n",
       "      <th>4</th>\n",
       "      <td>ئەگە وێنەمان لێیان هەبێ بە هەشتەگەوە توییتیان ...</td>\n",
       "      <td>0</td>\n",
       "      <td>گەین وێنە لێ هەبێ بوون هەشتەگەوە توییتیان بۆ دان</td>\n",
       "    </tr>\n",
       "  </tbody>\n",
       "</table>\n",
       "</div>"
      ],
      "text/plain": [
       "                                               tweet  sentiment  \\\n",
       "0               دوای شەش ساڵ خوشکم هاتەوە کوردستان😭😍          0   \n",
       "1             بڕەکەی کە 134 ملیار و 455 ملیۆن دینارە          0   \n",
       "2      دا بە منیش بڵێن لە دینوو بەم قونم وە خرو کەوت          0   \n",
       "3  سوید پەنابەرێکی باکووری کوردستان ڕادەستی تورکی...          0   \n",
       "4  ئەگە وێنەمان لێیان هەبێ بە هەشتەگەوە توییتیان ...          0   \n",
       "\n",
       "                                        cleaned_text  \n",
       "0                دوان شەش ساڵ خوشک هاتەوە کوردستان😭😍  \n",
       "1                  بڕ کە 134 ملیار و 455 ملیۆن دینار  \n",
       "2    دا بوون نیشتن وتن لە دین بردن قونم وە خرو کەوتن  \n",
       "3  سوید پەنابەر باکوور کوردستان ڕادەستی تورکیا دە...  \n",
       "4   گەین وێنە لێ هەبێ بوون هەشتەگەوە توییتیان بۆ دان  "
      ]
     },
     "execution_count": 14,
     "metadata": {},
     "output_type": "execute_result"
    }
   ],
   "source": [
    "df['sentiment'] = df['sentiment'].replace({'positive': 1, 'negative': -1, 'neutral': 0})\n",
    "df.head()"
   ]
  },
  {
   "cell_type": "markdown",
   "id": "052e57e5",
   "metadata": {},
   "source": [
    "### Splitting the dataset"
   ]
  },
  {
   "cell_type": "code",
   "execution_count": 15,
   "id": "0ebc384a",
   "metadata": {},
   "outputs": [],
   "source": [
    "RS = 42"
   ]
  },
  {
   "cell_type": "code",
   "execution_count": 16,
   "id": "cdbd6cea",
   "metadata": {},
   "outputs": [],
   "source": [
    "X = df.loc[:, 'cleaned_text']\n",
    "y = df.loc[:, 'sentiment']\n",
    "X_train,X_test,y_train,y_test = train_test_split(X,y,test_size=.2,random_state=42)"
   ]
  },
  {
   "cell_type": "markdown",
   "id": "71c8f657",
   "metadata": {},
   "source": [
    "\n",
    "\n",
    "## Modeling"
   ]
  },
  {
   "cell_type": "markdown",
   "id": "792b1def",
   "metadata": {},
   "source": [
    "### Building the pipeline"
   ]
  },
  {
   "cell_type": "code",
   "execution_count": 17,
   "id": "1f744f9b",
   "metadata": {},
   "outputs": [],
   "source": [
    "pipeline = Pipeline([\n",
    "    ('tfidf', TfidfVectorizer()),\n",
    "    ('clf', ClfSwitcher())\n",
    "])"
   ]
  },
  {
   "cell_type": "code",
   "execution_count": 18,
   "id": "d391ccf4",
   "metadata": {},
   "outputs": [],
   "source": [
    "grid = ParameterGrid({\n",
    "    'clf__estimator': [\n",
    "        LogisticRegression(multi_class=\"multinomial\",solver='lbfgs',random_state=RS),\n",
    "        LinearSVC(multi_class=\"crammer_singer\", random_state=RS),\n",
    "        RandomForestClassifier(n_estimators=30, criterion='entropy',random_state=RS),\n",
    "        DecisionTreeClassifier(random_state=RS),\n",
    "        \n",
    "    ],\n",
    "    'tfidf__ngram_range': [(1, 1)]\n",
    "})\n",
    "\n",
    "models = [\n",
    "   'LR', 'SVM', 'RF', 'DT',\n",
    "]\n",
    "multi_class_metrics = pd.DataFrame()"
   ]
  },
  {
   "cell_type": "code",
   "execution_count": 19,
   "id": "07e5b8c6",
   "metadata": {
    "scrolled": true
   },
   "outputs": [
    {
     "name": "stderr",
     "output_type": "stream",
     "text": [
      "100%|█████████████████████████████████████████████| 4/4 [00:01<00:00,  2.57it/s]\n"
     ]
    }
   ],
   "source": [
    "for model, params in tqdm(zip(models, grid), total=len(models)):\n",
    "    pipeline.set_params(**params)\n",
    "    pipeline.fit(X_train, y_train)\n",
    "    y_pred = pipeline.predict(X_test)\n",
    "    machine_learning = score(y_test, y_pred, model)\n",
    "    multi_class_metrics = pd.concat([multi_class_metrics, machine_learning])\n",
    "    "
   ]
  },
  {
   "cell_type": "code",
   "execution_count": 20,
   "id": "7073b06a",
   "metadata": {},
   "outputs": [
    {
     "data": {
      "text/html": [
       "<div>\n",
       "<style scoped>\n",
       "    .dataframe tbody tr th:only-of-type {\n",
       "        vertical-align: middle;\n",
       "    }\n",
       "\n",
       "    .dataframe tbody tr th {\n",
       "        vertical-align: top;\n",
       "    }\n",
       "\n",
       "    .dataframe thead th {\n",
       "        text-align: right;\n",
       "    }\n",
       "</style>\n",
       "<table border=\"1\" class=\"dataframe\">\n",
       "  <thead>\n",
       "    <tr style=\"text-align: right;\">\n",
       "      <th></th>\n",
       "      <th>precision</th>\n",
       "      <th>recall</th>\n",
       "      <th>f1</th>\n",
       "      <th>accuracy</th>\n",
       "    </tr>\n",
       "  </thead>\n",
       "  <tbody>\n",
       "    <tr>\n",
       "      <th>LR</th>\n",
       "      <td>0.589177</td>\n",
       "      <td>0.580952</td>\n",
       "      <td>0.582946</td>\n",
       "      <td>0.580952</td>\n",
       "    </tr>\n",
       "    <tr>\n",
       "      <th>SVM</th>\n",
       "      <td>0.565859</td>\n",
       "      <td>0.564286</td>\n",
       "      <td>0.563999</td>\n",
       "      <td>0.564286</td>\n",
       "    </tr>\n",
       "    <tr>\n",
       "      <th>RF</th>\n",
       "      <td>0.540441</td>\n",
       "      <td>0.533333</td>\n",
       "      <td>0.534231</td>\n",
       "      <td>0.533333</td>\n",
       "    </tr>\n",
       "    <tr>\n",
       "      <th>DT</th>\n",
       "      <td>0.477015</td>\n",
       "      <td>0.473810</td>\n",
       "      <td>0.474462</td>\n",
       "      <td>0.473810</td>\n",
       "    </tr>\n",
       "  </tbody>\n",
       "</table>\n",
       "</div>"
      ],
      "text/plain": [
       "     precision    recall        f1  accuracy\n",
       "LR    0.589177  0.580952  0.582946  0.580952\n",
       "SVM   0.565859  0.564286  0.563999  0.564286\n",
       "RF    0.540441  0.533333  0.534231  0.533333\n",
       "DT    0.477015  0.473810  0.474462  0.473810"
      ]
     },
     "execution_count": 20,
     "metadata": {},
     "output_type": "execute_result"
    }
   ],
   "source": [
    "multi_class_metrics"
   ]
  },
  {
   "cell_type": "code",
   "execution_count": 21,
   "id": "df595a9e",
   "metadata": {},
   "outputs": [],
   "source": [
    "biLSTM = pd.DataFrame({'precision': 0.57, 'recall': 0.571, 'f1': 0.576, 'accuracy': 0.58 }, index=['BiLSTM'])\n",
    "multi_class_metrics = pd.concat([multi_class_metrics, biLSTM])"
   ]
  },
  {
   "cell_type": "markdown",
   "id": "932c88c7",
   "metadata": {},
   "source": [
    " Treating the problem as a multi-class problem gives us much much higher accuracy"
   ]
  },
  {
   "cell_type": "code",
   "execution_count": 22,
   "id": "68f4e091",
   "metadata": {
    "scrolled": false
   },
   "outputs": [
    {
     "data": {
      "image/png": "[encoded data removed]",
      "text/plain": [
       "<Figure size 1152x576 with 1 Axes>"
      ]
     },
     "metadata": {
      "needs_background": "light"
     },
     "output_type": "display_data"
    }
   ],
   "source": [
    "plot_metrics(multi_class_metrics, title=\"Evaluation on Automatically Annotated Dataset\")"
   ]
  },
  {
   "cell_type": "markdown",
   "id": "e736b047",
   "metadata": {},
   "source": [
    "### Best Model & Inference\n"
   ]
  },
  {
   "cell_type": "code",
   "execution_count": 23,
   "id": "c3c08d6e",
   "metadata": {},
   "outputs": [
    {
     "data": {
      "text/html": [
       "<div>\n",
       "<style scoped>\n",
       "    .dataframe tbody tr th:only-of-type {\n",
       "        vertical-align: middle;\n",
       "    }\n",
       "\n",
       "    .dataframe tbody tr th {\n",
       "        vertical-align: top;\n",
       "    }\n",
       "\n",
       "    .dataframe thead th {\n",
       "        text-align: right;\n",
       "    }\n",
       "</style>\n",
       "<table border=\"1\" class=\"dataframe\">\n",
       "  <thead>\n",
       "    <tr style=\"text-align: right;\">\n",
       "      <th></th>\n",
       "      <th>precision</th>\n",
       "      <th>recall</th>\n",
       "      <th>f1</th>\n",
       "      <th>accuracy</th>\n",
       "    </tr>\n",
       "  </thead>\n",
       "  <tbody>\n",
       "    <tr>\n",
       "      <th>lr</th>\n",
       "      <td>0.565859</td>\n",
       "      <td>0.564286</td>\n",
       "      <td>0.563999</td>\n",
       "      <td>0.564286</td>\n",
       "    </tr>\n",
       "  </tbody>\n",
       "</table>\n",
       "</div>"
      ],
      "text/plain": [
       "    precision    recall        f1  accuracy\n",
       "lr   0.565859  0.564286  0.563999  0.564286"
      ]
     },
     "execution_count": 23,
     "metadata": {},
     "output_type": "execute_result"
    }
   ],
   "source": [
    "pipeline = Pipeline([\n",
    "    ('tfidf', TfidfVectorizer()),\n",
    "    ('clf', LinearSVC(multi_class=\"crammer_singer\", random_state=RS))\n",
    "])\n",
    "pipeline.fit(X_train, y_train)\n",
    "y_pred = pipeline.predict(X_test)\n",
    "score(y_test, y_pred, 'lr')"
   ]
  },
  {
   "cell_type": "code",
   "execution_count": 24,
   "id": "e3e612f5",
   "metadata": {},
   "outputs": [
    {
     "data": {
      "image/png": "[encoded data removed]",
      "text/plain": [
       "<Figure size 432x288 with 2 Axes>"
      ]
     },
     "metadata": {
      "needs_background": "dark"
     },
     "output_type": "display_data"
    }
   ],
   "source": [
    "import matplotlib.pyplot as plt\n",
    "from sklearn.metrics import plot_confusion_matrix\n",
    " \n",
    "color = 'white'\n",
    "matrix = plot_confusion_matrix(pipeline, X_test, y_test, cmap=plt.cm.Blues,display_labels=['negative', 'neutral', 'positive'] )\n",
    "matrix.ax_.set_title('Confusion Matrix', color=color)\n",
    "plt.xlabel('Predicted Label', color=color)\n",
    "plt.ylabel('True Label', color=color)\n",
    "plt.gcf().axes[0].tick_params(colors=color)\n",
    "plt.gcf().axes[1].tick_params(colors=color)\n",
    "plt.show()"
   ]
  },
  {
   "cell_type": "code",
   "execution_count": 25,
   "id": "48e9a2e7",
   "metadata": {},
   "outputs": [
    {
     "name": "stdout",
     "output_type": "stream",
     "text": [
      "خۆشەویستی جوانی، باش حەز = neutral\n",
      "جلە ڕەشەکەت ئەکەیت جوانتریت ڕێک گوڵە ڕەشانە دەچیت دەگمەنن 🥀 = neutral\n",
      "حەزئەکەم چا ئەوەندە گەرم بێ. بۆم بکرایە دەمم ئەنا بە قۆرییەکەوە! = neutral\n",
      "وێ ڕا بانگم دەکا دەلێم گیان دەلێ جوابی هەست ناسکیه ئەوە نیه = neutral\n"
     ]
    }
   ],
   "source": [
    "labels = {\n",
    "    0: 'neutral',\n",
    "    -1: 'negative',\n",
    "    1: 'positive'\n",
    "} \n",
    "\n",
    "def create_test_data(txt):\n",
    "    d = {'cleaned_text' : clean_text(txt)}\n",
    "    df = pd.DataFrame(d, index=[0])\n",
    "    return df\n",
    "\n",
    "\n",
    "samples = [\n",
    "    'خۆشەویستی جوانی، باش حەز',\n",
    "    'جلە ڕەشەکەت ئەکەیت جوانتریت ڕێک گوڵە ڕەشانە دەچیت دەگمەنن 🥀',\n",
    "    \"حەزئەکەم چا ئەوەندە گەرم بێ. بۆم بکرایە دەمم ئەنا بە قۆرییەکەوە!\",\n",
    "    \"وێ ڕا بانگم دەکا دەلێم گیان دەلێ جوابی هەست ناسکیه ئەوە نیه\"\n",
    "]\n",
    "\n",
    "for x in samples:\n",
    "    c_res = pipeline.predict(create_test_data(x))[0]\n",
    "    print(x, '=', labels[c_res])\n"
   ]
  },
  {
   "cell_type": "code",
   "execution_count": null,
   "id": "dc193c9d",
   "metadata": {},
   "outputs": [],
   "source": []
  },
  {
   "cell_type": "code",
   "execution_count": null,
   "id": "f2e97f8d",
   "metadata": {},
   "outputs": [],
   "source": []
  }
 ],
 "metadata": {
  "kernelspec": {
   "display_name": "Python 3 (ipykernel)",
   "language": "python",
   "name": "python3"
  },
  "language_info": {
   "codemirror_mode": {
    "name": "ipython",
    "version": 3
   },
   "file_extension": ".py",
   "mimetype": "text/x-python",
   "name": "python",
   "nbconvert_exporter": "python",
   "pygments_lexer": "ipython3",
   "version": "3.10.8"
  }
 },
 "nbformat": 4,
 "nbformat_minor": 5
}
